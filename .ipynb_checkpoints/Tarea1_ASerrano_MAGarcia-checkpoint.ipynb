{
 "cells": [
  {
   "cell_type": "markdown",
   "id": "096ffa8b",
   "metadata": {},
   "source": [
    "# Proyecto en Conjunto - Tarea 1\n",
    "#### Elaborado por: Alejandro Serrano Silva y Mario Alberto Garcia Roman"
   ]
  },
  {
   "cell_type": "markdown",
   "id": "906011b5",
   "metadata": {},
   "source": [
    "_Aqui Alex escribirá sus expectativas del curso y la transcripción de la figura 1:_\n",
    "\n",
    "De este curso de **Simulación de Procesos Financieros**, tengo altas expectativas sobre lo que puedo aprender y lograr. Una de mis principales metas es mejorar mis habilidades de programación en Python, un lenguaje que se ha vuelto esencial en el ámbito financiero. También quiero mejorar mis habilidades de colaboración en proyectos complejos en equipo utilizando Git.\n",
    "\n",
    "Además, de la programación y la colaboración, estoy entusiasmado por explorar el poder de la simulación en el mundo financiero. Quiero comprender cómo, a través de modelos y simulaciones, podemos anticipar escenarios, evaluar riesgos y tomar decisiones más informadas. Me emociona pensar que estas simulaciones, cuando se construyen correctamente, pueden reflejar con gran precisión la realidad y, por lo tanto, ser herramientas valiosas para la toma de decisiones estratégicas en finanzas.\n",
    "\n",
    "**Aqui viene la transcripcion de la figura 1:**\n",
    "\n",
    "$$\n",
    "\\int_{-1}^{1} e^{-x^2} \\, dx \\approx 1.4936\n",
    "$$\n"
   ]
  },
  {
   "cell_type": "markdown",
   "id": "3fd9c6fd",
   "metadata": {},
   "source": [
    "Aqui Mario escribirá sus expectativas del curso y la transcripcion de la figura 2"
   ]
  },
  {
   "cell_type": "markdown",
   "id": "3537a54a",
   "metadata": {},
   "source": [
    "Del curso de **Simulacion de Procesos Financieros** espero principalmente a programar mejor, poder hacer codigos por mi cuenta e ir mejorando en la cuestión de programar en python.\n",
    "\n",
    "Después de eso es aprender a ser simulaciones en el área búrsatil para poder elegir portafolios en los cuales conviene invertir y el aprender ¿por qué?, esto para poder utilizarlo cuando ejersa para mis clientes o para mis inversiones personales."
   ]
  },
  {
   "cell_type": "markdown",
   "id": "23a27b7c",
   "metadata": {},
   "source": [
    "**Aqui viene la transcripcion de la figura 2:**"
   ]
  },
  {
   "cell_type": "markdown",
   "id": "fe593c14",
   "metadata": {},
   "source": [
    "$$\n",
    "b_{A} = \\frac{1}{2} \\left( v - \\frac{\\sigma^2}{6} \\right)\n",
    "$$"
   ]
  },
  {
   "cell_type": "code",
   "execution_count": 1,
   "id": "3051641d",
   "metadata": {},
   "outputs": [
    {
     "name": "stdout",
     "output_type": "stream",
     "text": [
      "[2, 3, 5, 7, 11, 13, 17, 19, 23, 29, 31, 37, 41, 43, 47, 53, 59, 61, 67, 71, 73, 79, 83, 89, 97]\n"
     ]
    }
   ],
   "source": [
    "def es_primo(n):\n",
    "    \"\"\"Determina si un número es primo.\"\"\"\n",
    "    if n <= 1:\n",
    "        return False\n",
    "    if n <= 3:\n",
    "        return True\n",
    "    if n % 2 == 0 or n % 3 == 0:\n",
    "        return False\n",
    "    i = 5\n",
    "    while i * i <= n:\n",
    "        if n % i == 0 or n % (i + 2) == 0:\n",
    "            return False\n",
    "        i += 6\n",
    "    return True\n",
    "\n",
    "def primos_hasta(n):\n",
    "    \"\"\"Genera una lista de números primos hasta n.\"\"\"\n",
    "    return [i for i in range(2, n+1) if es_primo(i)]\n",
    "\n",
    "# Mostrar los números primos del 0 al 100\n",
    "primos_100 = primos_hasta(100)\n",
    "print(primos_100)"
   ]
  },
  {
   "cell_type": "code",
   "execution_count": 2,
   "id": "a0cff9f2",
   "metadata": {},
   "outputs": [
    {
     "name": "stdout",
     "output_type": "stream",
     "text": [
      "[0, 1, 1, 2, 3, 5, 8, 13, 21, 34, 55, 89, 144, 233, 377, 610, 987, 1597, 2584, 4181, 6765, 10946, 17711, 28657, 46368, 75025, 121393, 196418, 317811, 514229, 832040, 1346269, 2178309, 3524578, 5702887, 9227465, 14930352, 24157817, 39088169, 63245986, 102334155, 165580141, 267914296, 433494437, 701408733, 1134903170, 1836311903, 2971215073, 4807526976, 7778742049, 12586269025, 20365011074, 32951280099, 53316291173, 86267571272, 139583862445, 225851433717, 365435296162, 591286729879, 956722026041, 1548008755920, 2504730781961, 4052739537881, 6557470319842, 10610209857723, 17167680177565, 27777890035288, 44945570212853, 72723460248141, 117669030460994, 190392490709135, 308061521170129, 498454011879264, 806515533049393, 1304969544928657, 2111485077978050, 3416454622906707, 5527939700884757, 8944394323791464, 14472334024676221, 23416728348467685, 37889062373143906, 61305790721611591, 99194853094755497, 160500643816367088, 259695496911122585, 420196140727489673, 679891637638612258, 1100087778366101931, 1779979416004714189, 2880067194370816120, 4660046610375530309, 7540113804746346429, 12200160415121876738, 19740274219868223167, 31940434634990099905, 51680708854858323072, 83621143489848422977, 135301852344706746049, 218922995834555169026]\n"
     ]
    }
   ],
   "source": [
    "def fibonacci(n):\n",
    "    \"\"\"Genera los primeros n términos de la serie de Fibonacci.\"\"\"\n",
    "    if n <= 0:\n",
    "        return []\n",
    "    elif n == 1:\n",
    "        return [0]\n",
    "    elif n == 2:\n",
    "        return [0, 1]\n",
    "    \n",
    "    fib_series = [0, 1]\n",
    "    for _ in range(2, n):\n",
    "        next_term = fib_series[-1] + fib_series[-2]\n",
    "        fib_series.append(next_term)\n",
    "    \n",
    "    return fib_series\n",
    "\n",
    "# Imprimir los primeros 100 términos de la serie de Fibonacci\n",
    "fib_100 = fibonacci(100)\n",
    "print(fib_100)\n"
   ]
  },
  {
   "cell_type": "code",
   "execution_count": null,
   "id": "e9f0f52b",
   "metadata": {},
   "outputs": [],
   "source": []
  }
 ],
 "metadata": {
  "kernelspec": {
   "display_name": "Python 3 (ipykernel)",
   "language": "python",
   "name": "python3"
  },
  "language_info": {
   "codemirror_mode": {
    "name": "ipython",
    "version": 3
   },
   "file_extension": ".py",
   "mimetype": "text/x-python",
   "name": "python",
   "nbconvert_exporter": "python",
   "pygments_lexer": "ipython3",
   "version": "3.11.3"
  }
 },
 "nbformat": 4,
 "nbformat_minor": 5
}
