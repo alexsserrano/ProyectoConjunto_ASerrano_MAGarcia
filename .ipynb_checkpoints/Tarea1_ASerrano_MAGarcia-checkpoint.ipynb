{
 "cells": [
  {
   "cell_type": "markdown",
   "id": "096ffa8b",
   "metadata": {},
   "source": [
    "# Proyecto en Conjunto - Tarea 1\n",
    "#### Elaborado por: Alejandro Serrano Silva y Mario Alberto Garcia Roman"
   ]
  },
  {
   "cell_type": "markdown",
   "id": "906011b5",
   "metadata": {},
   "source": [
    "Aqui Alex escribirá sus expectativas del curso y la transcripción de la figura 1"
   ]
  },
  {
   "cell_type": "markdown",
   "id": "3fd9c6fd",
   "metadata": {},
   "source": [
    "Aqui Mario escribirá sus expectativas del curso y la transcripcion de la figura 2"
   ]
  }
 ],
 "metadata": {
  "kernelspec": {
   "display_name": "Python 3 (ipykernel)",
   "language": "python",
   "name": "python3"
  },
  "language_info": {
   "codemirror_mode": {
    "name": "ipython",
    "version": 3
   },
   "file_extension": ".py",
   "mimetype": "text/x-python",
   "name": "python",
   "nbconvert_exporter": "python",
   "pygments_lexer": "ipython3",
   "version": "3.9.12"
  }
 },
 "nbformat": 4,
 "nbformat_minor": 5
}
